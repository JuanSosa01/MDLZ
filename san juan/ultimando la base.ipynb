{
 "cells": [
  {
   "cell_type": "code",
   "execution_count": 1,
   "metadata": {},
   "outputs": [],
   "source": [
    "import pandas as pd\n",
    "import numpy as np\n",
    "import seaborn as sns\n",
    "import matplotlib.pyplot as plt\n",
    "# Configuro pandas para mostrar todas las columnas\n",
    "pd.set_option('display.max_columns', None)"
   ]
  },
  {
   "cell_type": "code",
   "execution_count": 2,
   "metadata": {},
   "outputs": [],
   "source": [
    "df = pd.read_excel(\"datos_unificados.xlsx\")"
   ]
  },
  {
   "cell_type": "code",
   "execution_count": 3,
   "metadata": {},
   "outputs": [],
   "source": [
    "san_juan = pd.read_excel(\"san_juan.xlsx\")"
   ]
  },
  {
   "cell_type": "code",
   "execution_count": 12,
   "metadata": {},
   "outputs": [
    {
     "name": "stdout",
     "output_type": "stream",
     "text": [
      "El número de coincidencias es: 4570\n",
      "El porcentaje de coincidencias es: 99.78%\n"
     ]
    }
   ],
   "source": [
    "\n",
    "# Extraer los valores únicos de la columna 'identifica' en el DataFrame 'san_juan'\n",
    "valores_identifica = san_juan['identifica'].unique()\n",
    "\n",
    "# Filtrar el DataFrame 'df' para obtener las filas donde 'identificador_pdv' coincide con los valores de 'valores_identifica'\n",
    "df_san_juan = df[df['identificador_pdv'].isin(valores_identifica)]\n",
    "\n",
    "# Contar el número total de valores en 'valores_identifica'\n",
    "num_total_valores_identifica = len(valores_identifica)\n",
    "\n",
    "# Contar las coincidencias\n",
    "num_coincidencias = df_san_juan.shape[0]\n",
    "\n",
    "# Calcular el porcentaje de coincidencias\n",
    "porcentaje_coincidencias = (num_coincidencias / num_total_valores_identifica) * 100\n",
    "\n",
    "print(f\"El número de coincidencias es: {num_coincidencias}\")\n",
    "print(f\"El porcentaje de coincidencias es: {porcentaje_coincidencias:.2f}%\")\n"
   ]
  },
  {
   "cell_type": "code",
   "execution_count": 15,
   "metadata": {},
   "outputs": [],
   "source": [
    "df_san_juan.to_excel(\"san_juan_final.xlsx\",index= False)"
   ]
  }
 ],
 "metadata": {
  "kernelspec": {
   "display_name": "Python 3",
   "language": "python",
   "name": "python3"
  },
  "language_info": {
   "codemirror_mode": {
    "name": "ipython",
    "version": 3
   },
   "file_extension": ".py",
   "mimetype": "text/x-python",
   "name": "python",
   "nbconvert_exporter": "python",
   "pygments_lexer": "ipython3",
   "version": "3.11.4"
  }
 },
 "nbformat": 4,
 "nbformat_minor": 2
}
